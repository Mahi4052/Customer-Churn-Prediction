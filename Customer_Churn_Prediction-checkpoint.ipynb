{
 "cells": [
  {
   "cell_type": "code",
   "execution_count": 179,
   "id": "fc46efd3",
   "metadata": {},
   "outputs": [],
   "source": [
    "#pandas and numpy for data manipulation  \n",
    "import pandas as pd\n",
    "import numpy as np\n",
    "\n",
    "#matplotlib and seaborn is for data analysis \n",
    "import matplotlib.pyplot as plt\n",
    "import seaborn as sns"
   ]
  },
  {
   "cell_type": "code",
   "execution_count": 180,
   "id": "584bcab3",
   "metadata": {},
   "outputs": [],
   "source": [
    "#directory for the data\n",
    "path = 'C:\\\\Users\\\\Admin\\\\Customer Churn Prediction\\\\'"
   ]
  },
  {
   "cell_type": "code",
   "execution_count": 181,
   "id": "2d320d4e",
   "metadata": {},
   "outputs": [],
   "source": [
    "#data loading\n",
    "data = pd.read_csv(path+\"Churn_Modelling.csv\")"
   ]
  },
  {
   "cell_type": "code",
   "execution_count": 182,
   "id": "31954134",
   "metadata": {},
   "outputs": [
    {
     "data": {
      "text/html": [
       "<div>\n",
       "<style scoped>\n",
       "    .dataframe tbody tr th:only-of-type {\n",
       "        vertical-align: middle;\n",
       "    }\n",
       "\n",
       "    .dataframe tbody tr th {\n",
       "        vertical-align: top;\n",
       "    }\n",
       "\n",
       "    .dataframe thead th {\n",
       "        text-align: right;\n",
       "    }\n",
       "</style>\n",
       "<table border=\"1\" class=\"dataframe\">\n",
       "  <thead>\n",
       "    <tr style=\"text-align: right;\">\n",
       "      <th></th>\n",
       "      <th>RowNumber</th>\n",
       "      <th>CustomerId</th>\n",
       "      <th>Surname</th>\n",
       "      <th>CreditScore</th>\n",
       "      <th>Geography</th>\n",
       "      <th>Gender</th>\n",
       "      <th>Age</th>\n",
       "      <th>Tenure</th>\n",
       "      <th>Balance</th>\n",
       "      <th>NumOfProducts</th>\n",
       "      <th>HasCrCard</th>\n",
       "      <th>IsActiveMember</th>\n",
       "      <th>EstimatedSalary</th>\n",
       "      <th>Exited</th>\n",
       "    </tr>\n",
       "  </thead>\n",
       "  <tbody>\n",
       "    <tr>\n",
       "      <th>0</th>\n",
       "      <td>1</td>\n",
       "      <td>15634602</td>\n",
       "      <td>Hargrave</td>\n",
       "      <td>619</td>\n",
       "      <td>France</td>\n",
       "      <td>Female</td>\n",
       "      <td>42</td>\n",
       "      <td>2</td>\n",
       "      <td>0.00</td>\n",
       "      <td>1</td>\n",
       "      <td>1</td>\n",
       "      <td>1</td>\n",
       "      <td>101348.88</td>\n",
       "      <td>1</td>\n",
       "    </tr>\n",
       "    <tr>\n",
       "      <th>1</th>\n",
       "      <td>2</td>\n",
       "      <td>15647311</td>\n",
       "      <td>Hill</td>\n",
       "      <td>608</td>\n",
       "      <td>Spain</td>\n",
       "      <td>Female</td>\n",
       "      <td>41</td>\n",
       "      <td>1</td>\n",
       "      <td>83807.86</td>\n",
       "      <td>1</td>\n",
       "      <td>0</td>\n",
       "      <td>1</td>\n",
       "      <td>112542.58</td>\n",
       "      <td>0</td>\n",
       "    </tr>\n",
       "    <tr>\n",
       "      <th>2</th>\n",
       "      <td>3</td>\n",
       "      <td>15619304</td>\n",
       "      <td>Onio</td>\n",
       "      <td>502</td>\n",
       "      <td>France</td>\n",
       "      <td>Female</td>\n",
       "      <td>42</td>\n",
       "      <td>8</td>\n",
       "      <td>159660.80</td>\n",
       "      <td>3</td>\n",
       "      <td>1</td>\n",
       "      <td>0</td>\n",
       "      <td>113931.57</td>\n",
       "      <td>1</td>\n",
       "    </tr>\n",
       "    <tr>\n",
       "      <th>3</th>\n",
       "      <td>4</td>\n",
       "      <td>15701354</td>\n",
       "      <td>Boni</td>\n",
       "      <td>699</td>\n",
       "      <td>France</td>\n",
       "      <td>Female</td>\n",
       "      <td>39</td>\n",
       "      <td>1</td>\n",
       "      <td>0.00</td>\n",
       "      <td>2</td>\n",
       "      <td>0</td>\n",
       "      <td>0</td>\n",
       "      <td>93826.63</td>\n",
       "      <td>0</td>\n",
       "    </tr>\n",
       "    <tr>\n",
       "      <th>4</th>\n",
       "      <td>5</td>\n",
       "      <td>15737888</td>\n",
       "      <td>Mitchell</td>\n",
       "      <td>850</td>\n",
       "      <td>Spain</td>\n",
       "      <td>Female</td>\n",
       "      <td>43</td>\n",
       "      <td>2</td>\n",
       "      <td>125510.82</td>\n",
       "      <td>1</td>\n",
       "      <td>1</td>\n",
       "      <td>1</td>\n",
       "      <td>79084.10</td>\n",
       "      <td>0</td>\n",
       "    </tr>\n",
       "  </tbody>\n",
       "</table>\n",
       "</div>"
      ],
      "text/plain": [
       "   RowNumber  CustomerId   Surname  CreditScore Geography  Gender  Age  \\\n",
       "0          1    15634602  Hargrave          619    France  Female   42   \n",
       "1          2    15647311      Hill          608     Spain  Female   41   \n",
       "2          3    15619304      Onio          502    France  Female   42   \n",
       "3          4    15701354      Boni          699    France  Female   39   \n",
       "4          5    15737888  Mitchell          850     Spain  Female   43   \n",
       "\n",
       "   Tenure    Balance  NumOfProducts  HasCrCard  IsActiveMember  \\\n",
       "0       2       0.00              1          1               1   \n",
       "1       1   83807.86              1          0               1   \n",
       "2       8  159660.80              3          1               0   \n",
       "3       1       0.00              2          0               0   \n",
       "4       2  125510.82              1          1               1   \n",
       "\n",
       "   EstimatedSalary  Exited  \n",
       "0        101348.88       1  \n",
       "1        112542.58       0  \n",
       "2        113931.57       1  \n",
       "3         93826.63       0  \n",
       "4         79084.10       0  "
      ]
     },
     "execution_count": 182,
     "metadata": {},
     "output_type": "execute_result"
    }
   ],
   "source": [
    "#top 5 records\n",
    "data.head()"
   ]
  },
  {
   "cell_type": "code",
   "execution_count": 183,
   "id": "54f6305b",
   "metadata": {},
   "outputs": [
    {
     "data": {
      "text/plain": [
       "(10000, 14)"
      ]
     },
     "execution_count": 183,
     "metadata": {},
     "output_type": "execute_result"
    }
   ],
   "source": [
    "#no.of records (rows & columns)\n",
    "data.shape"
   ]
  },
  {
   "cell_type": "code",
   "execution_count": 184,
   "id": "3d015885",
   "metadata": {},
   "outputs": [
    {
     "name": "stdout",
     "output_type": "stream",
     "text": [
      "<class 'pandas.core.frame.DataFrame'>\n",
      "RangeIndex: 10000 entries, 0 to 9999\n",
      "Data columns (total 14 columns):\n",
      " #   Column           Non-Null Count  Dtype  \n",
      "---  ------           --------------  -----  \n",
      " 0   RowNumber        10000 non-null  int64  \n",
      " 1   CustomerId       10000 non-null  int64  \n",
      " 2   Surname          10000 non-null  object \n",
      " 3   CreditScore      10000 non-null  int64  \n",
      " 4   Geography        10000 non-null  object \n",
      " 5   Gender           10000 non-null  object \n",
      " 6   Age              10000 non-null  int64  \n",
      " 7   Tenure           10000 non-null  int64  \n",
      " 8   Balance          10000 non-null  float64\n",
      " 9   NumOfProducts    10000 non-null  int64  \n",
      " 10  HasCrCard        10000 non-null  int64  \n",
      " 11  IsActiveMember   10000 non-null  int64  \n",
      " 12  EstimatedSalary  10000 non-null  float64\n",
      " 13  Exited           10000 non-null  int64  \n",
      "dtypes: float64(2), int64(9), object(3)\n",
      "memory usage: 1.1+ MB\n"
     ]
    }
   ],
   "source": [
    "data.info()"
   ]
  },
  {
   "cell_type": "code",
   "execution_count": 185,
   "id": "3eb79cd5",
   "metadata": {
    "scrolled": true
   },
   "outputs": [
    {
     "data": {
      "text/html": [
       "<div>\n",
       "<style scoped>\n",
       "    .dataframe tbody tr th:only-of-type {\n",
       "        vertical-align: middle;\n",
       "    }\n",
       "\n",
       "    .dataframe tbody tr th {\n",
       "        vertical-align: top;\n",
       "    }\n",
       "\n",
       "    .dataframe thead th {\n",
       "        text-align: right;\n",
       "    }\n",
       "</style>\n",
       "<table border=\"1\" class=\"dataframe\">\n",
       "  <thead>\n",
       "    <tr style=\"text-align: right;\">\n",
       "      <th></th>\n",
       "      <th>RowNumber</th>\n",
       "      <th>CustomerId</th>\n",
       "      <th>CreditScore</th>\n",
       "      <th>Age</th>\n",
       "      <th>Tenure</th>\n",
       "      <th>Balance</th>\n",
       "      <th>NumOfProducts</th>\n",
       "      <th>HasCrCard</th>\n",
       "      <th>IsActiveMember</th>\n",
       "      <th>EstimatedSalary</th>\n",
       "      <th>Exited</th>\n",
       "    </tr>\n",
       "  </thead>\n",
       "  <tbody>\n",
       "    <tr>\n",
       "      <th>count</th>\n",
       "      <td>10000.00000</td>\n",
       "      <td>1.000000e+04</td>\n",
       "      <td>10000.000000</td>\n",
       "      <td>10000.000000</td>\n",
       "      <td>10000.000000</td>\n",
       "      <td>10000.000000</td>\n",
       "      <td>10000.000000</td>\n",
       "      <td>10000.00000</td>\n",
       "      <td>10000.000000</td>\n",
       "      <td>10000.000000</td>\n",
       "      <td>10000.000000</td>\n",
       "    </tr>\n",
       "    <tr>\n",
       "      <th>mean</th>\n",
       "      <td>5000.50000</td>\n",
       "      <td>1.569094e+07</td>\n",
       "      <td>650.528800</td>\n",
       "      <td>38.921800</td>\n",
       "      <td>5.012800</td>\n",
       "      <td>76485.889288</td>\n",
       "      <td>1.530200</td>\n",
       "      <td>0.70550</td>\n",
       "      <td>0.515100</td>\n",
       "      <td>100090.239881</td>\n",
       "      <td>0.203700</td>\n",
       "    </tr>\n",
       "    <tr>\n",
       "      <th>std</th>\n",
       "      <td>2886.89568</td>\n",
       "      <td>7.193619e+04</td>\n",
       "      <td>96.653299</td>\n",
       "      <td>10.487806</td>\n",
       "      <td>2.892174</td>\n",
       "      <td>62397.405202</td>\n",
       "      <td>0.581654</td>\n",
       "      <td>0.45584</td>\n",
       "      <td>0.499797</td>\n",
       "      <td>57510.492818</td>\n",
       "      <td>0.402769</td>\n",
       "    </tr>\n",
       "    <tr>\n",
       "      <th>min</th>\n",
       "      <td>1.00000</td>\n",
       "      <td>1.556570e+07</td>\n",
       "      <td>350.000000</td>\n",
       "      <td>18.000000</td>\n",
       "      <td>0.000000</td>\n",
       "      <td>0.000000</td>\n",
       "      <td>1.000000</td>\n",
       "      <td>0.00000</td>\n",
       "      <td>0.000000</td>\n",
       "      <td>11.580000</td>\n",
       "      <td>0.000000</td>\n",
       "    </tr>\n",
       "    <tr>\n",
       "      <th>25%</th>\n",
       "      <td>2500.75000</td>\n",
       "      <td>1.562853e+07</td>\n",
       "      <td>584.000000</td>\n",
       "      <td>32.000000</td>\n",
       "      <td>3.000000</td>\n",
       "      <td>0.000000</td>\n",
       "      <td>1.000000</td>\n",
       "      <td>0.00000</td>\n",
       "      <td>0.000000</td>\n",
       "      <td>51002.110000</td>\n",
       "      <td>0.000000</td>\n",
       "    </tr>\n",
       "    <tr>\n",
       "      <th>50%</th>\n",
       "      <td>5000.50000</td>\n",
       "      <td>1.569074e+07</td>\n",
       "      <td>652.000000</td>\n",
       "      <td>37.000000</td>\n",
       "      <td>5.000000</td>\n",
       "      <td>97198.540000</td>\n",
       "      <td>1.000000</td>\n",
       "      <td>1.00000</td>\n",
       "      <td>1.000000</td>\n",
       "      <td>100193.915000</td>\n",
       "      <td>0.000000</td>\n",
       "    </tr>\n",
       "    <tr>\n",
       "      <th>75%</th>\n",
       "      <td>7500.25000</td>\n",
       "      <td>1.575323e+07</td>\n",
       "      <td>718.000000</td>\n",
       "      <td>44.000000</td>\n",
       "      <td>7.000000</td>\n",
       "      <td>127644.240000</td>\n",
       "      <td>2.000000</td>\n",
       "      <td>1.00000</td>\n",
       "      <td>1.000000</td>\n",
       "      <td>149388.247500</td>\n",
       "      <td>0.000000</td>\n",
       "    </tr>\n",
       "    <tr>\n",
       "      <th>max</th>\n",
       "      <td>10000.00000</td>\n",
       "      <td>1.581569e+07</td>\n",
       "      <td>850.000000</td>\n",
       "      <td>92.000000</td>\n",
       "      <td>10.000000</td>\n",
       "      <td>250898.090000</td>\n",
       "      <td>4.000000</td>\n",
       "      <td>1.00000</td>\n",
       "      <td>1.000000</td>\n",
       "      <td>199992.480000</td>\n",
       "      <td>1.000000</td>\n",
       "    </tr>\n",
       "  </tbody>\n",
       "</table>\n",
       "</div>"
      ],
      "text/plain": [
       "         RowNumber    CustomerId   CreditScore           Age        Tenure  \\\n",
       "count  10000.00000  1.000000e+04  10000.000000  10000.000000  10000.000000   \n",
       "mean    5000.50000  1.569094e+07    650.528800     38.921800      5.012800   \n",
       "std     2886.89568  7.193619e+04     96.653299     10.487806      2.892174   \n",
       "min        1.00000  1.556570e+07    350.000000     18.000000      0.000000   \n",
       "25%     2500.75000  1.562853e+07    584.000000     32.000000      3.000000   \n",
       "50%     5000.50000  1.569074e+07    652.000000     37.000000      5.000000   \n",
       "75%     7500.25000  1.575323e+07    718.000000     44.000000      7.000000   \n",
       "max    10000.00000  1.581569e+07    850.000000     92.000000     10.000000   \n",
       "\n",
       "             Balance  NumOfProducts    HasCrCard  IsActiveMember  \\\n",
       "count   10000.000000   10000.000000  10000.00000    10000.000000   \n",
       "mean    76485.889288       1.530200      0.70550        0.515100   \n",
       "std     62397.405202       0.581654      0.45584        0.499797   \n",
       "min         0.000000       1.000000      0.00000        0.000000   \n",
       "25%         0.000000       1.000000      0.00000        0.000000   \n",
       "50%     97198.540000       1.000000      1.00000        1.000000   \n",
       "75%    127644.240000       2.000000      1.00000        1.000000   \n",
       "max    250898.090000       4.000000      1.00000        1.000000   \n",
       "\n",
       "       EstimatedSalary        Exited  \n",
       "count     10000.000000  10000.000000  \n",
       "mean     100090.239881      0.203700  \n",
       "std       57510.492818      0.402769  \n",
       "min          11.580000      0.000000  \n",
       "25%       51002.110000      0.000000  \n",
       "50%      100193.915000      0.000000  \n",
       "75%      149388.247500      0.000000  \n",
       "max      199992.480000      1.000000  "
      ]
     },
     "execution_count": 185,
     "metadata": {},
     "output_type": "execute_result"
    }
   ],
   "source": [
    "#statical measures(count,mean...) of data\n",
    "data.describe()"
   ]
  },
  {
   "cell_type": "raw",
   "id": "e4c8eb10",
   "metadata": {},
   "source": [
    "25, 50, 75 are called interquartile(IQR) range of box plot to understand the variability of data."
   ]
  },
  {
   "cell_type": "code",
   "execution_count": 186,
   "id": "04860814",
   "metadata": {},
   "outputs": [
    {
     "data": {
      "text/plain": [
       "RowNumber          0\n",
       "CustomerId         0\n",
       "Surname            0\n",
       "CreditScore        0\n",
       "Geography          0\n",
       "Gender             0\n",
       "Age                0\n",
       "Tenure             0\n",
       "Balance            0\n",
       "NumOfProducts      0\n",
       "HasCrCard          0\n",
       "IsActiveMember     0\n",
       "EstimatedSalary    0\n",
       "Exited             0\n",
       "dtype: int64"
      ]
     },
     "execution_count": 186,
     "metadata": {},
     "output_type": "execute_result"
    }
   ],
   "source": [
    "data.isnull().sum() #count of the null values"
   ]
  },
  {
   "cell_type": "raw",
   "id": "3878c4ea",
   "metadata": {},
   "source": [
    "Data has to be clean, we should check if any null values(missing values) are present before actually building machine learning model.\n",
    "If missing values are present then it need to be replace either with mean, medium or mode."
   ]
  },
  {
   "cell_type": "code",
   "execution_count": 187,
   "id": "18e52be2",
   "metadata": {
    "scrolled": false
   },
   "outputs": [
    {
     "data": {
      "text/html": [
       "<div>\n",
       "<style scoped>\n",
       "    .dataframe tbody tr th:only-of-type {\n",
       "        vertical-align: middle;\n",
       "    }\n",
       "\n",
       "    .dataframe tbody tr th {\n",
       "        vertical-align: top;\n",
       "    }\n",
       "\n",
       "    .dataframe thead th {\n",
       "        text-align: right;\n",
       "    }\n",
       "</style>\n",
       "<table border=\"1\" class=\"dataframe\">\n",
       "  <thead>\n",
       "    <tr style=\"text-align: right;\">\n",
       "      <th></th>\n",
       "      <th>RowNumber</th>\n",
       "      <th>CustomerId</th>\n",
       "      <th>Surname</th>\n",
       "      <th>CreditScore</th>\n",
       "      <th>Geography</th>\n",
       "      <th>Gender</th>\n",
       "      <th>Age</th>\n",
       "      <th>Tenure</th>\n",
       "      <th>Balance</th>\n",
       "      <th>NumOfProducts</th>\n",
       "      <th>HasCrCard</th>\n",
       "      <th>IsActiveMember</th>\n",
       "      <th>EstimatedSalary</th>\n",
       "      <th>Exited</th>\n",
       "    </tr>\n",
       "  </thead>\n",
       "  <tbody>\n",
       "    <tr>\n",
       "      <th>0</th>\n",
       "      <td>1</td>\n",
       "      <td>15634602</td>\n",
       "      <td>Hargrave</td>\n",
       "      <td>619</td>\n",
       "      <td>France</td>\n",
       "      <td>Female</td>\n",
       "      <td>42</td>\n",
       "      <td>2</td>\n",
       "      <td>0.00</td>\n",
       "      <td>1</td>\n",
       "      <td>1</td>\n",
       "      <td>1</td>\n",
       "      <td>101348.88</td>\n",
       "      <td>1</td>\n",
       "    </tr>\n",
       "    <tr>\n",
       "      <th>1</th>\n",
       "      <td>2</td>\n",
       "      <td>15647311</td>\n",
       "      <td>Hill</td>\n",
       "      <td>608</td>\n",
       "      <td>Spain</td>\n",
       "      <td>Female</td>\n",
       "      <td>41</td>\n",
       "      <td>1</td>\n",
       "      <td>83807.86</td>\n",
       "      <td>1</td>\n",
       "      <td>0</td>\n",
       "      <td>1</td>\n",
       "      <td>112542.58</td>\n",
       "      <td>0</td>\n",
       "    </tr>\n",
       "  </tbody>\n",
       "</table>\n",
       "</div>"
      ],
      "text/plain": [
       "   RowNumber  CustomerId   Surname  CreditScore Geography  Gender  Age  \\\n",
       "0          1    15634602  Hargrave          619    France  Female   42   \n",
       "1          2    15647311      Hill          608     Spain  Female   41   \n",
       "\n",
       "   Tenure   Balance  NumOfProducts  HasCrCard  IsActiveMember  \\\n",
       "0       2      0.00              1          1               1   \n",
       "1       1  83807.86              1          0               1   \n",
       "\n",
       "   EstimatedSalary  Exited  \n",
       "0        101348.88       1  \n",
       "1        112542.58       0  "
      ]
     },
     "execution_count": 187,
     "metadata": {},
     "output_type": "execute_result"
    }
   ],
   "source": [
    "#first two rows of data\n",
    "data.head(2)"
   ]
  },
  {
   "cell_type": "code",
   "execution_count": 188,
   "id": "b714534a",
   "metadata": {},
   "outputs": [
    {
     "data": {
      "text/plain": [
       "20.369999999999997"
      ]
     },
     "execution_count": 188,
     "metadata": {},
     "output_type": "execute_result"
    }
   ],
   "source": [
    "#distribution of dependent variable, Exited (1-->churn and 0-->not churn)\n",
    "(data[data['Exited']==1].shape[0] / data.shape[0])*100"
   ]
  },
  {
   "cell_type": "raw",
   "id": "b89bfd78",
   "metadata": {},
   "source": [
    "Only around 20% of the data is showing churn."
   ]
  },
  {
   "cell_type": "code",
   "execution_count": 189,
   "id": "cc7b9b23",
   "metadata": {},
   "outputs": [
    {
     "data": {
      "text/html": [
       "<div>\n",
       "<style scoped>\n",
       "    .dataframe tbody tr th:only-of-type {\n",
       "        vertical-align: middle;\n",
       "    }\n",
       "\n",
       "    .dataframe tbody tr th {\n",
       "        vertical-align: top;\n",
       "    }\n",
       "\n",
       "    .dataframe thead th {\n",
       "        text-align: right;\n",
       "    }\n",
       "</style>\n",
       "<table border=\"1\" class=\"dataframe\">\n",
       "  <thead>\n",
       "    <tr style=\"text-align: right;\">\n",
       "      <th></th>\n",
       "      <th>Exited</th>\n",
       "      <th>count</th>\n",
       "    </tr>\n",
       "  </thead>\n",
       "  <tbody>\n",
       "    <tr>\n",
       "      <th>0</th>\n",
       "      <td>0</td>\n",
       "      <td>7963</td>\n",
       "    </tr>\n",
       "    <tr>\n",
       "      <th>1</th>\n",
       "      <td>1</td>\n",
       "      <td>2037</td>\n",
       "    </tr>\n",
       "  </tbody>\n",
       "</table>\n",
       "</div>"
      ],
      "text/plain": [
       "   Exited  count\n",
       "0       0   7963\n",
       "1       1   2037"
      ]
     },
     "execution_count": 189,
     "metadata": {},
     "output_type": "execute_result"
    }
   ],
   "source": [
    "churn = data['Exited'].value_counts().reset_index()\n",
    "churn.head()"
   ]
  },
  {
   "cell_type": "raw",
   "id": "c0480c13",
   "metadata": {},
   "source": [
    "0 indicates not churn (not exited from company).\n",
    "\n",
    "1 indicates churn (exited from the company)."
   ]
  },
  {
   "cell_type": "code",
   "execution_count": 190,
   "id": "b54a8a0e",
   "metadata": {
    "scrolled": false
   },
   "outputs": [
    {
     "data": {
      "text/plain": [
       "<Axes: xlabel='Exited', ylabel='count'>"
      ]
     },
     "execution_count": 190,
     "metadata": {},
     "output_type": "execute_result"
    },
    {
     "data": {
      "image/png": "[encoded data removed]",
      "text/plain": [
       "<Figure size 640x480 with 1 Axes>"
      ]
     },
     "metadata": {},
     "output_type": "display_data"
    }
   ],
   "source": [
    "#bar graph\n",
    "#x is the feature vairable and y is target vairable\n",
    "\n",
    "sns.barplot(x = churn['Exited'], y = churn['count'])\n"
   ]
  },
  {
   "cell_type": "raw",
   "id": "68a8027a",
   "metadata": {},
   "source": [
    "As we can see in above graph this is a highly imbalanced dataseet."
   ]
  },
  {
   "cell_type": "code",
   "execution_count": 191,
   "id": "9c1a5b9b",
   "metadata": {
    "scrolled": false
   },
   "outputs": [
    {
     "data": {
      "text/plain": [
       "<Axes: xlabel='Tenure', ylabel='Density'>"
      ]
     },
     "execution_count": 191,
     "metadata": {},
     "output_type": "execute_result"
    },
    {
     "data": {
      "image/png": "[encoded data removed]",
      "text/plain": [
       "<Figure size 800x500 with 1 Axes>"
      ]
     },
     "metadata": {},
     "output_type": "display_data"
    }
   ],
   "source": [
    "#line graph\n",
    "#\"tenure\" typically refers measure of the duration or length of time that a customer has maintained a relationship with the bank.\n",
    "plt.figure(figsize=(8,5))\n",
    "sns.kdeplot(x = data['Tenure'], hue = data['Exited'])\n"
   ]
  },
  {
   "cell_type": "raw",
   "id": "818fabfd",
   "metadata": {},
   "source": [
    "The above graph shows lesser the tenure the more chances of churn; comapnies should focus on marketing strategies to retain there customers i.e., mutual communications b/w customers should be for long time."
   ]
  },
  {
   "cell_type": "code",
   "execution_count": 192,
   "id": "960b5a93",
   "metadata": {},
   "outputs": [
    {
     "data": {
      "text/html": [
       "<div>\n",
       "<style scoped>\n",
       "    .dataframe tbody tr th:only-of-type {\n",
       "        vertical-align: middle;\n",
       "    }\n",
       "\n",
       "    .dataframe tbody tr th {\n",
       "        vertical-align: top;\n",
       "    }\n",
       "\n",
       "    .dataframe thead th {\n",
       "        text-align: right;\n",
       "    }\n",
       "</style>\n",
       "<table border=\"1\" class=\"dataframe\">\n",
       "  <thead>\n",
       "    <tr style=\"text-align: right;\">\n",
       "      <th></th>\n",
       "      <th>RowNumber</th>\n",
       "      <th>CustomerId</th>\n",
       "      <th>Surname</th>\n",
       "      <th>CreditScore</th>\n",
       "      <th>Geography</th>\n",
       "      <th>Gender</th>\n",
       "      <th>Age</th>\n",
       "      <th>Tenure</th>\n",
       "      <th>Balance</th>\n",
       "      <th>NumOfProducts</th>\n",
       "      <th>HasCrCard</th>\n",
       "      <th>IsActiveMember</th>\n",
       "      <th>EstimatedSalary</th>\n",
       "      <th>Exited</th>\n",
       "    </tr>\n",
       "  </thead>\n",
       "  <tbody>\n",
       "    <tr>\n",
       "      <th>0</th>\n",
       "      <td>1</td>\n",
       "      <td>15634602</td>\n",
       "      <td>Hargrave</td>\n",
       "      <td>619</td>\n",
       "      <td>France</td>\n",
       "      <td>Female</td>\n",
       "      <td>42</td>\n",
       "      <td>2</td>\n",
       "      <td>0.00</td>\n",
       "      <td>1</td>\n",
       "      <td>1</td>\n",
       "      <td>1</td>\n",
       "      <td>101348.88</td>\n",
       "      <td>1</td>\n",
       "    </tr>\n",
       "    <tr>\n",
       "      <th>2</th>\n",
       "      <td>3</td>\n",
       "      <td>15619304</td>\n",
       "      <td>Onio</td>\n",
       "      <td>502</td>\n",
       "      <td>France</td>\n",
       "      <td>Female</td>\n",
       "      <td>42</td>\n",
       "      <td>8</td>\n",
       "      <td>159660.80</td>\n",
       "      <td>3</td>\n",
       "      <td>1</td>\n",
       "      <td>0</td>\n",
       "      <td>113931.57</td>\n",
       "      <td>1</td>\n",
       "    </tr>\n",
       "    <tr>\n",
       "      <th>5</th>\n",
       "      <td>6</td>\n",
       "      <td>15574012</td>\n",
       "      <td>Chu</td>\n",
       "      <td>645</td>\n",
       "      <td>Spain</td>\n",
       "      <td>Male</td>\n",
       "      <td>44</td>\n",
       "      <td>8</td>\n",
       "      <td>113755.78</td>\n",
       "      <td>2</td>\n",
       "      <td>1</td>\n",
       "      <td>0</td>\n",
       "      <td>149756.71</td>\n",
       "      <td>1</td>\n",
       "    </tr>\n",
       "    <tr>\n",
       "      <th>7</th>\n",
       "      <td>8</td>\n",
       "      <td>15656148</td>\n",
       "      <td>Obinna</td>\n",
       "      <td>376</td>\n",
       "      <td>Germany</td>\n",
       "      <td>Female</td>\n",
       "      <td>29</td>\n",
       "      <td>4</td>\n",
       "      <td>115046.74</td>\n",
       "      <td>4</td>\n",
       "      <td>1</td>\n",
       "      <td>0</td>\n",
       "      <td>119346.88</td>\n",
       "      <td>1</td>\n",
       "    </tr>\n",
       "    <tr>\n",
       "      <th>16</th>\n",
       "      <td>17</td>\n",
       "      <td>15737452</td>\n",
       "      <td>Romeo</td>\n",
       "      <td>653</td>\n",
       "      <td>Germany</td>\n",
       "      <td>Male</td>\n",
       "      <td>58</td>\n",
       "      <td>1</td>\n",
       "      <td>132602.88</td>\n",
       "      <td>1</td>\n",
       "      <td>1</td>\n",
       "      <td>0</td>\n",
       "      <td>5097.67</td>\n",
       "      <td>1</td>\n",
       "    </tr>\n",
       "  </tbody>\n",
       "</table>\n",
       "</div>"
      ],
      "text/plain": [
       "    RowNumber  CustomerId   Surname  CreditScore Geography  Gender  Age  \\\n",
       "0           1    15634602  Hargrave          619    France  Female   42   \n",
       "2           3    15619304      Onio          502    France  Female   42   \n",
       "5           6    15574012       Chu          645     Spain    Male   44   \n",
       "7           8    15656148    Obinna          376   Germany  Female   29   \n",
       "16         17    15737452     Romeo          653   Germany    Male   58   \n",
       "\n",
       "    Tenure    Balance  NumOfProducts  HasCrCard  IsActiveMember  \\\n",
       "0        2       0.00              1          1               1   \n",
       "2        8  159660.80              3          1               0   \n",
       "5        8  113755.78              2          1               0   \n",
       "7        4  115046.74              4          1               0   \n",
       "16       1  132602.88              1          1               0   \n",
       "\n",
       "    EstimatedSalary  Exited  \n",
       "0         101348.88       1  \n",
       "2         113931.57       1  \n",
       "5         149756.71       1  \n",
       "7         119346.88       1  \n",
       "16          5097.67       1  "
      ]
     },
     "execution_count": 192,
     "metadata": {},
     "output_type": "execute_result"
    }
   ],
   "source": [
    "#customers data which are churn\n",
    "churning = data[data['Exited']==1]\n",
    "\n",
    "#taking only 5 rows\n",
    "churning.head(5)"
   ]
  },
  {
   "cell_type": "code",
   "execution_count": 193,
   "id": "a247f098",
   "metadata": {},
   "outputs": [
    {
     "data": {
      "text/plain": [
       "array(['France', 'Spain', 'Germany'], dtype=object)"
      ]
     },
     "execution_count": 193,
     "metadata": {},
     "output_type": "execute_result"
    }
   ],
   "source": [
    "#unique countries\n",
    "data['Geography'].unique()\n"
   ]
  },
  {
   "cell_type": "raw",
   "id": "a3827e42",
   "metadata": {},
   "source": [
    "In python string is taken as object for the given dataset."
   ]
  },
  {
   "cell_type": "code",
   "execution_count": 194,
   "id": "800bda6b",
   "metadata": {},
   "outputs": [],
   "source": [
    "def calculate_ratios(ax):\n",
    "    l = len(ax.patches)\n",
    "    cnt = 0\n",
    "    without_churn = []\n",
    "    with_churn = []\n",
    "    for p in ax.patches:\n",
    "        if cnt <l/2:\n",
    "            without_churn.append(p.get_height())\n",
    "        else:\n",
    "            with_churn.append(p.get_height())\n",
    "        cnt +=1;\n",
    "        \n",
    "    print(\"without_churn :\", without_churn)\n",
    "    print(\"with_churn :\", with_churn)\n",
    "        \n",
    "    ratio = []\n",
    "    for i in range(len(without_churn)):\n",
    "        ratio.append(with_churn[i] / without_churn[i])\n",
    "        \n",
    "    print(\"ratio :\", ratio)"
   ]
  },
  {
   "cell_type": "code",
   "execution_count": 195,
   "id": "2589849c",
   "metadata": {},
   "outputs": [
    {
     "data": {
      "image/png": "[encoded data removed]",
      "text/plain": [
       "<Figure size 640x480 with 1 Axes>"
      ]
     },
     "metadata": {},
     "output_type": "display_data"
    }
   ],
   "source": [
    "#the \"hue\" parameter implies the different colors\n",
    "ax = sns.countplot(x = data['Geography'], hue = data['Exited'])\n"
   ]
  },
  {
   "cell_type": "raw",
   "id": "406979d8",
   "metadata": {},
   "source": [
    "As in the above graph customers that are more churn are from germany and least churn are from spain."
   ]
  },
  {
   "cell_type": "code",
   "execution_count": 196,
   "id": "86ba4643",
   "metadata": {},
   "outputs": [
    {
     "name": "stdout",
     "output_type": "stream",
     "text": [
      "without_churn : [4204.0, 2064.0, 1695.0]\n",
      "with_churn : [810.0, 413.0, 814.0]\n",
      "ratio : [0.19267364414843008, 0.2000968992248062, 0.48023598820059]\n"
     ]
    }
   ],
   "source": [
    "calculate_ratios(ax)"
   ]
  },
  {
   "cell_type": "raw",
   "id": "d8a8d865",
   "metadata": {},
   "source": [
    "with_churn shows the count of customers churn, without_churn shows the count of customers not churn, and ratio is with_churn/without_churn."
   ]
  },
  {
   "cell_type": "code",
   "execution_count": 197,
   "id": "8e4d81f9",
   "metadata": {},
   "outputs": [
    {
     "data": {
      "image/png": "[encoded data removed]",
      "text/plain": [
       "<Figure size 800x500 with 1 Axes>"
      ]
     },
     "metadata": {},
     "output_type": "display_data"
    }
   ],
   "source": [
    "plt.figure(figsize = (8,5))\n",
    "g = sns.countplot(x = data['Gender'], hue = data['Exited'])\n"
   ]
  },
  {
   "cell_type": "raw",
   "id": "8142e222",
   "metadata": {},
   "source": [
    "Comparing male and female not_churn and churn plot graph."
   ]
  },
  {
   "cell_type": "code",
   "execution_count": 198,
   "id": "390f0e12",
   "metadata": {},
   "outputs": [
    {
     "name": "stdout",
     "output_type": "stream",
     "text": [
      "without_churn : [3404.0, 4559.0]\n",
      "with_churn : [1139.0, 898.0]\n",
      "ratio : [0.33460634547591067, 0.19697302039921036]\n"
     ]
    }
   ],
   "source": [
    "calculate_ratios(g)\n"
   ]
  },
  {
   "cell_type": "code",
   "execution_count": 199,
   "id": "778ad7e1",
   "metadata": {},
   "outputs": [
    {
     "data": {
      "text/plain": [
       "25.071538630860662"
      ]
     },
     "execution_count": 199,
     "metadata": {},
     "output_type": "execute_result"
    }
   ],
   "source": [
    "(churning [churning['Gender'] == 'Female'].shape[0] / data[data['Gender'] == 'Female'].shape[0]) * 100\n"
   ]
  },
  {
   "cell_type": "raw",
   "id": "6b1edc43",
   "metadata": {},
   "source": [
    "Above we can see on an average almost 25% female customers churn."
   ]
  },
  {
   "cell_type": "code",
   "execution_count": 200,
   "id": "cc5b26ca",
   "metadata": {},
   "outputs": [
    {
     "data": {
      "image/png": "[encoded data removed]",
      "text/plain": [
       "<Figure size 640x480 with 1 Axes>"
      ]
     },
     "metadata": {},
     "output_type": "display_data"
    }
   ],
   "source": [
    "#tenure on x - axis and as countplot so count on y - axis and hue apply different colors to exited classes 0 & 1\n",
    "dev = sns.countplot(x = data['Tenure'], hue = data['Exited'])\n"
   ]
  },
  {
   "cell_type": "raw",
   "id": "5892a4c2",
   "metadata": {},
   "source": [
    "At tenure 0 means within a year the cutomers notchurn and churn and tenure 1 means after one year the customers not churn and churn and so on....\n",
    "As we can see the the longer tenure the lesser likely to churn because they have bulid a strong trust with bank."
   ]
  },
  {
   "cell_type": "code",
   "execution_count": 201,
   "id": "b4c496b7",
   "metadata": {},
   "outputs": [
    {
     "name": "stdout",
     "output_type": "stream",
     "text": [
      "without_churn : [318.0, 803.0, 847.0, 796.0, 786.0, 803.0, 771.0, 851.0, 828.0, 771.0, 389.0]\n",
      "with_churn : [95.0, 232.0, 201.0, 213.0, 203.0, 209.0, 196.0, 177.0, 197.0, 213.0, 101.0]\n",
      "ratio : [0.29874213836477986, 0.2889165628891656, 0.23730814639905548, 0.2675879396984925, 0.2582697201017812, 0.2602739726027397, 0.25421530479896237, 0.20799059929494712, 0.23792270531400966, 0.27626459143968873, 0.2596401028277635]\n"
     ]
    }
   ],
   "source": [
    "#gives the measures which is plotted in the graph\n",
    "calculate_ratios(dev)"
   ]
  },
  {
   "cell_type": "code",
   "execution_count": 202,
   "id": "222f8d1a",
   "metadata": {},
   "outputs": [],
   "source": [
    "status = churning['HasCrCard'].value_counts().reset_index()"
   ]
  },
  {
   "cell_type": "code",
   "execution_count": 203,
   "id": "cccda2ec",
   "metadata": {},
   "outputs": [
    {
     "data": {
      "text/html": [
       "<div>\n",
       "<style scoped>\n",
       "    .dataframe tbody tr th:only-of-type {\n",
       "        vertical-align: middle;\n",
       "    }\n",
       "\n",
       "    .dataframe tbody tr th {\n",
       "        vertical-align: top;\n",
       "    }\n",
       "\n",
       "    .dataframe thead th {\n",
       "        text-align: right;\n",
       "    }\n",
       "</style>\n",
       "<table border=\"1\" class=\"dataframe\">\n",
       "  <thead>\n",
       "    <tr style=\"text-align: right;\">\n",
       "      <th></th>\n",
       "      <th>HasCrCard</th>\n",
       "      <th>count</th>\n",
       "    </tr>\n",
       "  </thead>\n",
       "  <tbody>\n",
       "    <tr>\n",
       "      <th>0</th>\n",
       "      <td>1</td>\n",
       "      <td>1424</td>\n",
       "    </tr>\n",
       "    <tr>\n",
       "      <th>1</th>\n",
       "      <td>0</td>\n",
       "      <td>613</td>\n",
       "    </tr>\n",
       "  </tbody>\n",
       "</table>\n",
       "</div>"
      ],
      "text/plain": [
       "   HasCrCard  count\n",
       "0          1   1424\n",
       "1          0    613"
      ]
     },
     "execution_count": 203,
     "metadata": {},
     "output_type": "execute_result"
    }
   ],
   "source": [
    "status.head(2)\n"
   ]
  },
  {
   "cell_type": "raw",
   "id": "0f51a1db",
   "metadata": {},
   "source": [
    "The no.of customers has credit card(1) and no.of customers has no credit card(2)."
   ]
  },
  {
   "cell_type": "code",
   "execution_count": 204,
   "id": "b41be1da",
   "metadata": {
    "scrolled": false
   },
   "outputs": [
    {
     "data": {
      "image/png": "[encoded data removed]",
      "text/plain": [
       "<Figure size 640x480 with 1 Axes>"
      ]
     },
     "metadata": {},
     "output_type": "display_data"
    }
   ],
   "source": [
    "status = sns.countplot(x = data['IsActiveMember'], hue = data['Exited'])\n"
   ]
  },
  {
   "cell_type": "raw",
   "id": "ed6ae053",
   "metadata": {},
   "source": [
    "The active members are not churning more whereas the non-active members are churning more."
   ]
  },
  {
   "cell_type": "code",
   "execution_count": 205,
   "id": "6306bdae",
   "metadata": {},
   "outputs": [
    {
     "name": "stdout",
     "output_type": "stream",
     "text": [
      "without_churn : [3547.0, 4416.0]\n",
      "with_churn : [1302.0, 735.0]\n",
      "ratio : [0.3670707640259374, 0.16644021739130435]\n"
     ]
    }
   ],
   "source": [
    "calculate_ratios(status)"
   ]
  },
  {
   "cell_type": "code",
   "execution_count": 206,
   "id": "6bfbaf81",
   "metadata": {},
   "outputs": [
    {
     "data": {
      "text/plain": [
       "array([1, 3, 2, 4], dtype=int64)"
      ]
     },
     "execution_count": 206,
     "metadata": {},
     "output_type": "execute_result"
    }
   ],
   "source": [
    "data['NumOfProducts'].unique()"
   ]
  },
  {
   "cell_type": "code",
   "execution_count": 207,
   "id": "7d96fdbd",
   "metadata": {
    "scrolled": false
   },
   "outputs": [
    {
     "data": {
      "image/png": "[encoded data removed]",
      "text/plain": [
       "<Figure size 640x480 with 1 Axes>"
      ]
     },
     "metadata": {},
     "output_type": "display_data"
    }
   ],
   "source": [
    "#both x and y are feature variables\n",
    "productpref = sns.barplot(x = data['NumOfProducts'], y = data['IsActiveMember'], hue = data['Exited'])"
   ]
  },
  {
   "cell_type": "raw",
   "id": "304629ba",
   "metadata": {},
   "source": [
    "NOTE: We cannot use near base b/w feature variables.\n",
    "The graph shows the relation between IsActiveMember and NumOfProducts.\n",
    "We can see the black line plots the active members."
   ]
  },
  {
   "cell_type": "code",
   "execution_count": 208,
   "id": "0a52387e",
   "metadata": {},
   "outputs": [
    {
     "name": "stdout",
     "output_type": "stream",
     "text": [
      "without_churn : [0.5654421768707483, 0.5445544554455446, 0.6086956521739131, nan]\n",
      "with_churn : [0.34421575585521647, 0.39080459770114945, 0.38636363636363635, 0.48333333333333334]\n",
      "ratio : [0.6087550061443313, 0.7176593521421107, 0.6347402597402597, nan]\n"
     ]
    }
   ],
   "source": [
    "#gives the numerical measures what the graph conveyed\n",
    "calculate_ratios(productpref)"
   ]
  },
  {
   "cell_type": "code",
   "execution_count": 209,
   "id": "24a5be3f",
   "metadata": {
    "scrolled": false
   },
   "outputs": [
    {
     "data": {
      "text/plain": [
       "<Axes: xlabel='NumOfProducts', ylabel='IsActiveMember'>"
      ]
     },
     "execution_count": 209,
     "metadata": {},
     "output_type": "execute_result"
    },
    {
     "data": {
      "image/png": "[encoded data removed]",
      "text/plain": [
       "<Figure size 640x480 with 1 Axes>"
      ]
     },
     "metadata": {},
     "output_type": "display_data"
    }
   ],
   "source": [
    "sns.lineplot(x = data['NumOfProducts'], y = data['IsActiveMember'], hue = data['Exited'])\n"
   ]
  },
  {
   "cell_type": "raw",
   "id": "8435d3c2",
   "metadata": {},
   "source": [
    "In the graph we can see that most of the customers that churn are having more products. This shows that company should increase the consistent quality of product."
   ]
  },
  {
   "cell_type": "code",
   "execution_count": 210,
   "id": "530ef3e3",
   "metadata": {
    "scrolled": false
   },
   "outputs": [
    {
     "data": {
      "image/png": "[encoded data removed]",
      "text/plain": [
       "<Figure size 1500x600 with 1 Axes>"
      ]
     },
     "metadata": {},
     "output_type": "display_data"
    }
   ],
   "source": [
    "plt.figure(figsize= (15,6)) #using matplotlib to set width, height\n",
    "cc = sns.histplot(x = data['CreditScore'], hue = data['Exited'], bins = 60)"
   ]
  },
  {
   "cell_type": "code",
   "execution_count": 211,
   "id": "5f90a074",
   "metadata": {},
   "outputs": [
    {
     "data": {
      "text/html": [
       "<div>\n",
       "<style scoped>\n",
       "    .dataframe tbody tr th:only-of-type {\n",
       "        vertical-align: middle;\n",
       "    }\n",
       "\n",
       "    .dataframe tbody tr th {\n",
       "        vertical-align: top;\n",
       "    }\n",
       "\n",
       "    .dataframe thead th {\n",
       "        text-align: right;\n",
       "    }\n",
       "</style>\n",
       "<table border=\"1\" class=\"dataframe\">\n",
       "  <thead>\n",
       "    <tr style=\"text-align: right;\">\n",
       "      <th></th>\n",
       "      <th>Geography</th>\n",
       "      <th>count</th>\n",
       "    </tr>\n",
       "  </thead>\n",
       "  <tbody>\n",
       "    <tr>\n",
       "      <th>0</th>\n",
       "      <td>France</td>\n",
       "      <td>5014</td>\n",
       "    </tr>\n",
       "    <tr>\n",
       "      <th>1</th>\n",
       "      <td>Germany</td>\n",
       "      <td>2509</td>\n",
       "    </tr>\n",
       "    <tr>\n",
       "      <th>2</th>\n",
       "      <td>Spain</td>\n",
       "      <td>2477</td>\n",
       "    </tr>\n",
       "  </tbody>\n",
       "</table>\n",
       "</div>"
      ],
      "text/plain": [
       "  Geography  count\n",
       "0    France   5014\n",
       "1   Germany   2509\n",
       "2     Spain   2477"
      ]
     },
     "execution_count": 211,
     "metadata": {},
     "output_type": "execute_result"
    }
   ],
   "source": [
    "country = data['Geography'].value_counts().reset_index()\n",
    "country.head(3)"
   ]
  },
  {
   "cell_type": "code",
   "execution_count": 212,
   "id": "43f60a0c",
   "metadata": {},
   "outputs": [
    {
     "data": {
      "text/plain": [
       "<Axes: xlabel='Geography', ylabel='count'>"
      ]
     },
     "execution_count": 212,
     "metadata": {},
     "output_type": "execute_result"
    },
    {
     "data": {
      "image/png": "[encoded data removed]",
      "text/plain": [
       "<Figure size 640x480 with 1 Axes>"
      ]
     },
     "metadata": {},
     "output_type": "display_data"
    }
   ],
   "source": [
    "sns.barplot(x = country['Geography'], y = country['count'])\n"
   ]
  },
  {
   "cell_type": "raw",
   "id": "c33e28cf",
   "metadata": {},
   "source": [
    "From the above graph, we can see that most regular customers are from France which are least likely to churn."
   ]
  },
  {
   "cell_type": "code",
   "execution_count": 213,
   "id": "892c8541",
   "metadata": {},
   "outputs": [
    {
     "data": {
      "text/plain": [
       "<Axes: xlabel='Gender', ylabel='IsActiveMember'>"
      ]
     },
     "execution_count": 213,
     "metadata": {},
     "output_type": "execute_result"
    },
    {
     "data": {
      "image/png": "[encoded data removed]",
      "text/plain": [
       "<Figure size 640x480 with 1 Axes>"
      ]
     },
     "metadata": {},
     "output_type": "display_data"
    }
   ],
   "source": [
    "sns.barplot(x = data['Gender'], y = data['IsActiveMember'])"
   ]
  },
  {
   "cell_type": "raw",
   "id": "f99555c5",
   "metadata": {},
   "source": [
    "In the above graph we can see men and women both are active members, so not much gender bias."
   ]
  },
  {
   "cell_type": "code",
   "execution_count": 214,
   "id": "b32fd212",
   "metadata": {},
   "outputs": [
    {
     "data": {
      "text/plain": [
       "Index(['RowNumber', 'CustomerId', 'Surname', 'CreditScore', 'Geography',\n",
       "       'Gender', 'Age', 'Tenure', 'Balance', 'NumOfProducts', 'HasCrCard',\n",
       "       'IsActiveMember', 'EstimatedSalary', 'Exited'],\n",
       "      dtype='object')"
      ]
     },
     "execution_count": 214,
     "metadata": {},
     "output_type": "execute_result"
    }
   ],
   "source": [
    "data.columns"
   ]
  },
  {
   "cell_type": "code",
   "execution_count": 215,
   "id": "bf36f51c",
   "metadata": {},
   "outputs": [
    {
     "data": {
      "text/plain": [
       "RowNumber            int64\n",
       "CustomerId           int64\n",
       "Surname             object\n",
       "CreditScore          int64\n",
       "Geography           object\n",
       "Gender              object\n",
       "Age                  int64\n",
       "Tenure               int64\n",
       "Balance            float64\n",
       "NumOfProducts        int64\n",
       "HasCrCard            int64\n",
       "IsActiveMember       int64\n",
       "EstimatedSalary    float64\n",
       "Exited               int64\n",
       "dtype: object"
      ]
     },
     "execution_count": 215,
     "metadata": {},
     "output_type": "execute_result"
    }
   ],
   "source": [
    "data.dtypes"
   ]
  },
  {
   "cell_type": "code",
   "execution_count": 216,
   "id": "32349172",
   "metadata": {},
   "outputs": [
    {
     "data": {
      "text/plain": [
       "array([15634602, 15647311, 15619304, ..., 15584532, 15682355, 15628319],\n",
       "      dtype=int64)"
      ]
     },
     "execution_count": 216,
     "metadata": {},
     "output_type": "execute_result"
    }
   ],
   "source": [
    "#Checking the inconsistent data values in each column\n",
    "data['CustomerId'].unique()"
   ]
  },
  {
   "cell_type": "code",
   "execution_count": 217,
   "id": "2655bf4e",
   "metadata": {},
   "outputs": [
    {
     "data": {
      "text/plain": [
       "array([ 2,  1,  8,  7,  4,  6,  3, 10,  5,  9,  0], dtype=int64)"
      ]
     },
     "execution_count": 217,
     "metadata": {},
     "output_type": "execute_result"
    }
   ],
   "source": [
    "data['Tenure'].unique()"
   ]
  },
  {
   "cell_type": "code",
   "execution_count": 218,
   "id": "b35b742e",
   "metadata": {},
   "outputs": [],
   "source": [
    "#Dropped the column 'Customer_Id' as it has nothing to do with churn\n",
    "data.drop(columns = ['CustomerId'], inplace = True)"
   ]
  },
  {
   "cell_type": "code",
   "execution_count": 219,
   "id": "5d765f15",
   "metadata": {},
   "outputs": [
    {
     "data": {
      "text/html": [
       "<div>\n",
       "<style scoped>\n",
       "    .dataframe tbody tr th:only-of-type {\n",
       "        vertical-align: middle;\n",
       "    }\n",
       "\n",
       "    .dataframe tbody tr th {\n",
       "        vertical-align: top;\n",
       "    }\n",
       "\n",
       "    .dataframe thead th {\n",
       "        text-align: right;\n",
       "    }\n",
       "</style>\n",
       "<table border=\"1\" class=\"dataframe\">\n",
       "  <thead>\n",
       "    <tr style=\"text-align: right;\">\n",
       "      <th></th>\n",
       "      <th>RowNumber</th>\n",
       "      <th>Surname</th>\n",
       "      <th>CreditScore</th>\n",
       "      <th>Geography</th>\n",
       "      <th>Gender</th>\n",
       "      <th>Age</th>\n",
       "      <th>Tenure</th>\n",
       "      <th>Balance</th>\n",
       "      <th>NumOfProducts</th>\n",
       "      <th>HasCrCard</th>\n",
       "      <th>IsActiveMember</th>\n",
       "      <th>EstimatedSalary</th>\n",
       "      <th>Exited</th>\n",
       "    </tr>\n",
       "  </thead>\n",
       "  <tbody>\n",
       "    <tr>\n",
       "      <th>0</th>\n",
       "      <td>1</td>\n",
       "      <td>Hargrave</td>\n",
       "      <td>619</td>\n",
       "      <td>France</td>\n",
       "      <td>Female</td>\n",
       "      <td>42</td>\n",
       "      <td>2</td>\n",
       "      <td>0.00</td>\n",
       "      <td>1</td>\n",
       "      <td>1</td>\n",
       "      <td>1</td>\n",
       "      <td>101348.88</td>\n",
       "      <td>1</td>\n",
       "    </tr>\n",
       "    <tr>\n",
       "      <th>1</th>\n",
       "      <td>2</td>\n",
       "      <td>Hill</td>\n",
       "      <td>608</td>\n",
       "      <td>Spain</td>\n",
       "      <td>Female</td>\n",
       "      <td>41</td>\n",
       "      <td>1</td>\n",
       "      <td>83807.86</td>\n",
       "      <td>1</td>\n",
       "      <td>0</td>\n",
       "      <td>1</td>\n",
       "      <td>112542.58</td>\n",
       "      <td>0</td>\n",
       "    </tr>\n",
       "    <tr>\n",
       "      <th>2</th>\n",
       "      <td>3</td>\n",
       "      <td>Onio</td>\n",
       "      <td>502</td>\n",
       "      <td>France</td>\n",
       "      <td>Female</td>\n",
       "      <td>42</td>\n",
       "      <td>8</td>\n",
       "      <td>159660.80</td>\n",
       "      <td>3</td>\n",
       "      <td>1</td>\n",
       "      <td>0</td>\n",
       "      <td>113931.57</td>\n",
       "      <td>1</td>\n",
       "    </tr>\n",
       "    <tr>\n",
       "      <th>3</th>\n",
       "      <td>4</td>\n",
       "      <td>Boni</td>\n",
       "      <td>699</td>\n",
       "      <td>France</td>\n",
       "      <td>Female</td>\n",
       "      <td>39</td>\n",
       "      <td>1</td>\n",
       "      <td>0.00</td>\n",
       "      <td>2</td>\n",
       "      <td>0</td>\n",
       "      <td>0</td>\n",
       "      <td>93826.63</td>\n",
       "      <td>0</td>\n",
       "    </tr>\n",
       "    <tr>\n",
       "      <th>4</th>\n",
       "      <td>5</td>\n",
       "      <td>Mitchell</td>\n",
       "      <td>850</td>\n",
       "      <td>Spain</td>\n",
       "      <td>Female</td>\n",
       "      <td>43</td>\n",
       "      <td>2</td>\n",
       "      <td>125510.82</td>\n",
       "      <td>1</td>\n",
       "      <td>1</td>\n",
       "      <td>1</td>\n",
       "      <td>79084.10</td>\n",
       "      <td>0</td>\n",
       "    </tr>\n",
       "  </tbody>\n",
       "</table>\n",
       "</div>"
      ],
      "text/plain": [
       "   RowNumber   Surname  CreditScore Geography  Gender  Age  Tenure    Balance  \\\n",
       "0          1  Hargrave          619    France  Female   42       2       0.00   \n",
       "1          2      Hill          608     Spain  Female   41       1   83807.86   \n",
       "2          3      Onio          502    France  Female   42       8  159660.80   \n",
       "3          4      Boni          699    France  Female   39       1       0.00   \n",
       "4          5  Mitchell          850     Spain  Female   43       2  125510.82   \n",
       "\n",
       "   NumOfProducts  HasCrCard  IsActiveMember  EstimatedSalary  Exited  \n",
       "0              1          1               1        101348.88       1  \n",
       "1              1          0               1        112542.58       0  \n",
       "2              3          1               0        113931.57       1  \n",
       "3              2          0               0         93826.63       0  \n",
       "4              1          1               1         79084.10       0  "
      ]
     },
     "execution_count": 219,
     "metadata": {},
     "output_type": "execute_result"
    }
   ],
   "source": [
    "data.head()"
   ]
  },
  {
   "cell_type": "code",
   "execution_count": 220,
   "id": "64219437",
   "metadata": {},
   "outputs": [
    {
     "data": {
      "text/html": [
       "<div>\n",
       "<style scoped>\n",
       "    .dataframe tbody tr th:only-of-type {\n",
       "        vertical-align: middle;\n",
       "    }\n",
       "\n",
       "    .dataframe tbody tr th {\n",
       "        vertical-align: top;\n",
       "    }\n",
       "\n",
       "    .dataframe thead th {\n",
       "        text-align: right;\n",
       "    }\n",
       "</style>\n",
       "<table border=\"1\" class=\"dataframe\">\n",
       "  <thead>\n",
       "    <tr style=\"text-align: right;\">\n",
       "      <th></th>\n",
       "      <th>RowNumber</th>\n",
       "      <th>Exited</th>\n",
       "      <th>Surname_Abazu</th>\n",
       "      <th>Surname_Abbie</th>\n",
       "      <th>Surname_Abbott</th>\n",
       "      <th>Surname_Abdullah</th>\n",
       "      <th>Surname_Abdulov</th>\n",
       "      <th>Surname_Abel</th>\n",
       "      <th>Surname_Abernathy</th>\n",
       "      <th>Surname_Abramov</th>\n",
       "      <th>...</th>\n",
       "      <th>EstimatedSalary_199805.63</th>\n",
       "      <th>EstimatedSalary_199808.1</th>\n",
       "      <th>EstimatedSalary_199841.32</th>\n",
       "      <th>EstimatedSalary_199857.47</th>\n",
       "      <th>EstimatedSalary_199862.75</th>\n",
       "      <th>EstimatedSalary_199909.32</th>\n",
       "      <th>EstimatedSalary_199929.17</th>\n",
       "      <th>EstimatedSalary_199953.33</th>\n",
       "      <th>EstimatedSalary_199970.74</th>\n",
       "      <th>EstimatedSalary_199992.48</th>\n",
       "    </tr>\n",
       "  </thead>\n",
       "  <tbody>\n",
       "    <tr>\n",
       "      <th>0</th>\n",
       "      <td>1</td>\n",
       "      <td>1</td>\n",
       "      <td>False</td>\n",
       "      <td>False</td>\n",
       "      <td>False</td>\n",
       "      <td>False</td>\n",
       "      <td>False</td>\n",
       "      <td>False</td>\n",
       "      <td>False</td>\n",
       "      <td>False</td>\n",
       "      <td>...</td>\n",
       "      <td>False</td>\n",
       "      <td>False</td>\n",
       "      <td>False</td>\n",
       "      <td>False</td>\n",
       "      <td>False</td>\n",
       "      <td>False</td>\n",
       "      <td>False</td>\n",
       "      <td>False</td>\n",
       "      <td>False</td>\n",
       "      <td>False</td>\n",
       "    </tr>\n",
       "    <tr>\n",
       "      <th>1</th>\n",
       "      <td>2</td>\n",
       "      <td>0</td>\n",
       "      <td>False</td>\n",
       "      <td>False</td>\n",
       "      <td>False</td>\n",
       "      <td>False</td>\n",
       "      <td>False</td>\n",
       "      <td>False</td>\n",
       "      <td>False</td>\n",
       "      <td>False</td>\n",
       "      <td>...</td>\n",
       "      <td>False</td>\n",
       "      <td>False</td>\n",
       "      <td>False</td>\n",
       "      <td>False</td>\n",
       "      <td>False</td>\n",
       "      <td>False</td>\n",
       "      <td>False</td>\n",
       "      <td>False</td>\n",
       "      <td>False</td>\n",
       "      <td>False</td>\n",
       "    </tr>\n",
       "    <tr>\n",
       "      <th>2</th>\n",
       "      <td>3</td>\n",
       "      <td>1</td>\n",
       "      <td>False</td>\n",
       "      <td>False</td>\n",
       "      <td>False</td>\n",
       "      <td>False</td>\n",
       "      <td>False</td>\n",
       "      <td>False</td>\n",
       "      <td>False</td>\n",
       "      <td>False</td>\n",
       "      <td>...</td>\n",
       "      <td>False</td>\n",
       "      <td>False</td>\n",
       "      <td>False</td>\n",
       "      <td>False</td>\n",
       "      <td>False</td>\n",
       "      <td>False</td>\n",
       "      <td>False</td>\n",
       "      <td>False</td>\n",
       "      <td>False</td>\n",
       "      <td>False</td>\n",
       "    </tr>\n",
       "    <tr>\n",
       "      <th>3</th>\n",
       "      <td>4</td>\n",
       "      <td>0</td>\n",
       "      <td>False</td>\n",
       "      <td>False</td>\n",
       "      <td>False</td>\n",
       "      <td>False</td>\n",
       "      <td>False</td>\n",
       "      <td>False</td>\n",
       "      <td>False</td>\n",
       "      <td>False</td>\n",
       "      <td>...</td>\n",
       "      <td>False</td>\n",
       "      <td>False</td>\n",
       "      <td>False</td>\n",
       "      <td>False</td>\n",
       "      <td>False</td>\n",
       "      <td>False</td>\n",
       "      <td>False</td>\n",
       "      <td>False</td>\n",
       "      <td>False</td>\n",
       "      <td>False</td>\n",
       "    </tr>\n",
       "    <tr>\n",
       "      <th>4</th>\n",
       "      <td>5</td>\n",
       "      <td>0</td>\n",
       "      <td>False</td>\n",
       "      <td>False</td>\n",
       "      <td>False</td>\n",
       "      <td>False</td>\n",
       "      <td>False</td>\n",
       "      <td>False</td>\n",
       "      <td>False</td>\n",
       "      <td>False</td>\n",
       "      <td>...</td>\n",
       "      <td>False</td>\n",
       "      <td>False</td>\n",
       "      <td>False</td>\n",
       "      <td>False</td>\n",
       "      <td>False</td>\n",
       "      <td>False</td>\n",
       "      <td>False</td>\n",
       "      <td>False</td>\n",
       "      <td>False</td>\n",
       "      <td>False</td>\n",
       "    </tr>\n",
       "  </tbody>\n",
       "</table>\n",
       "<p>5 rows × 19869 columns</p>\n",
       "</div>"
      ],
      "text/plain": [
       "   RowNumber  Exited  Surname_Abazu  Surname_Abbie  Surname_Abbott  \\\n",
       "0          1       1          False          False           False   \n",
       "1          2       0          False          False           False   \n",
       "2          3       1          False          False           False   \n",
       "3          4       0          False          False           False   \n",
       "4          5       0          False          False           False   \n",
       "\n",
       "   Surname_Abdullah  Surname_Abdulov  Surname_Abel  Surname_Abernathy  \\\n",
       "0             False            False         False              False   \n",
       "1             False            False         False              False   \n",
       "2             False            False         False              False   \n",
       "3             False            False         False              False   \n",
       "4             False            False         False              False   \n",
       "\n",
       "   Surname_Abramov  ...  EstimatedSalary_199805.63  EstimatedSalary_199808.1  \\\n",
       "0            False  ...                      False                     False   \n",
       "1            False  ...                      False                     False   \n",
       "2            False  ...                      False                     False   \n",
       "3            False  ...                      False                     False   \n",
       "4            False  ...                      False                     False   \n",
       "\n",
       "   EstimatedSalary_199841.32  EstimatedSalary_199857.47  \\\n",
       "0                      False                      False   \n",
       "1                      False                      False   \n",
       "2                      False                      False   \n",
       "3                      False                      False   \n",
       "4                      False                      False   \n",
       "\n",
       "   EstimatedSalary_199862.75  EstimatedSalary_199909.32  \\\n",
       "0                      False                      False   \n",
       "1                      False                      False   \n",
       "2                      False                      False   \n",
       "3                      False                      False   \n",
       "4                      False                      False   \n",
       "\n",
       "   EstimatedSalary_199929.17  EstimatedSalary_199953.33  \\\n",
       "0                      False                      False   \n",
       "1                      False                      False   \n",
       "2                      False                      False   \n",
       "3                      False                      False   \n",
       "4                      False                      False   \n",
       "\n",
       "   EstimatedSalary_199970.74  EstimatedSalary_199992.48  \n",
       "0                      False                      False  \n",
       "1                      False                      False  \n",
       "2                      False                      False  \n",
       "3                      False                      False  \n",
       "4                      False                      False  \n",
       "\n",
       "[5 rows x 19869 columns]"
      ]
     },
     "execution_count": 220,
     "metadata": {},
     "output_type": "execute_result"
    }
   ],
   "source": [
    "data = pd.get_dummies(data, columns = ['Surname', 'CreditScore', 'Geography', 'Gender', 'Age', 'Tenure', 'Balance', 'NumOfProducts','HasCrCard', 'IsActiveMember', 'EstimatedSalary'])\n",
    "data.head()"
   ]
  },
  {
   "cell_type": "code",
   "execution_count": 221,
   "id": "3ece631a",
   "metadata": {},
   "outputs": [],
   "source": [
    "#Dividing the dataset and seperating the target column('Exited') from it\n",
    "\n",
    "#features\n",
    "X = data.loc[:, data.columns != 'Exited']"
   ]
  },
  {
   "cell_type": "code",
   "execution_count": 222,
   "id": "b22364ec",
   "metadata": {},
   "outputs": [],
   "source": [
    "#target variable\n",
    "Y = data['Exited']"
   ]
  },
  {
   "cell_type": "code",
   "execution_count": 223,
   "id": "c3dede45",
   "metadata": {},
   "outputs": [],
   "source": [
    "#importing train_test_split\n",
    "from sklearn.model_selection import train_test_split\n",
    "\n",
    "#providing 30% of data for test and 70 % of data to train (test_size = 0.3)\n",
    "x_train, x_test, y_train, y_test = train_test_split(X, Y, test_size = 0.3, random_state = 10)"
   ]
  },
  {
   "cell_type": "raw",
   "id": "484129ee",
   "metadata": {},
   "source": [
    "Dividing the dataset into training and testing dataset.\n",
    "\n",
    "Training dataset: The training dataset is a subset of the overall dataset that is used to train a machine learning model. It is the input data on which the model learns the patterns and relationships between features and target outcomes.\n",
    "\n",
    "Testing dataset:The testing dataset is a separate subset of the overall dataset that is not used during the training phase. It serves as a benchmark to evaluate the model's performance and assess how well it generalizes to new, unseen data. \n",
    "\n",
    "The random state ensures reproducibility, as the same seed will produce the same results each time the model is trained.\n"
   ]
  },
  {
   "cell_type": "code",
   "execution_count": 224,
   "id": "a004ebc2",
   "metadata": {},
   "outputs": [],
   "source": [
    "#importing libraries\n",
    "from sklearn.metrics import accuracy_score\n",
    "from sklearn.metrics import classification_report\n",
    "from sklearn.metrics import confusion_matrix"
   ]
  },
  {
   "cell_type": "code",
   "execution_count": 225,
   "id": "6e3c09d3",
   "metadata": {},
   "outputs": [],
   "source": [
    "#ML MODELS"
   ]
  },
  {
   "cell_type": "code",
   "execution_count": 226,
   "id": "565ebd4f",
   "metadata": {},
   "outputs": [],
   "source": [
    "#importing the logisticregression\n",
    "from sklearn.linear_model import LogisticRegression"
   ]
  },
  {
   "cell_type": "code",
   "execution_count": 242,
   "id": "04135c21",
   "metadata": {},
   "outputs": [
    {
     "name": "stderr",
     "output_type": "stream",
     "text": [
      "C:\\Users\\Admin\\anaconda3\\Lib\\site-packages\\sklearn\\linear_model\\_logistic.py:460: ConvergenceWarning: lbfgs failed to converge (status=1):\n",
      "STOP: TOTAL NO. of ITERATIONS REACHED LIMIT.\n",
      "\n",
      "Increase the number of iterations (max_iter) or scale the data as shown in:\n",
      "    https://scikit-learn.org/stable/modules/preprocessing.html\n",
      "Please also refer to the documentation for alternative solver options:\n",
      "    https://scikit-learn.org/stable/modules/linear_model.html#logistic-regression\n",
      "  n_iter_i = _check_optimize_result(\n"
     ]
    },
    {
     "name": "stdout",
     "output_type": "stream",
     "text": [
      "Accuracy Score:  84.16666666666667\n",
      "Confusion Matrix: \n",
      " [[2287   93]\n",
      " [ 382  238]]\n",
      "Classification Report: \n",
      "               precision    recall  f1-score   support\n",
      "\n",
      "           0       0.86      0.96      0.91      2380\n",
      "           1       0.72      0.38      0.50       620\n",
      "\n",
      "    accuracy                           0.84      3000\n",
      "   macro avg       0.79      0.67      0.70      3000\n",
      "weighted avg       0.83      0.84      0.82      3000\n",
      "\n"
     ]
    }
   ],
   "source": [
    "#initializing the logisticregression\n",
    "lr = LogisticRegression()\n",
    "\n",
    "#training the model\n",
    "lr.fit(x_train, y_train)\n",
    "\n",
    "#making predictions on feature variable test dataset\n",
    "x_pred1 = lr.predict(x_test)\n",
    "\n",
    "#evaluating the model\n",
    "print('Accuracy Score: ', accuracy_score(y_test, x_pred1) * 100)\n",
    "print('Confusion Matrix: \\n', confusion_matrix(y_test, x_pred1))\n",
    "print('Classification Report: \\n', classification_report(y_test, x_pred1))\n"
   ]
  },
  {
   "cell_type": "code",
   "execution_count": 243,
   "id": "0a21712d",
   "metadata": {},
   "outputs": [
    {
     "name": "stdout",
     "output_type": "stream",
     "text": [
      "Accuracy Score:  82.53333333333333\n",
      "Confusion Matrix: \n",
      " [[2370   10]\n",
      " [ 514  106]]\n",
      "Classification Report: \n",
      "               precision    recall  f1-score   support\n",
      "\n",
      "           0       0.82      1.00      0.90      2380\n",
      "           1       0.91      0.17      0.29       620\n",
      "\n",
      "    accuracy                           0.83      3000\n",
      "   macro avg       0.87      0.58      0.59      3000\n",
      "weighted avg       0.84      0.83      0.77      3000\n",
      "\n"
     ]
    }
   ],
   "source": [
    "#importing the Random Forest Classifier\n",
    "from sklearn.ensemble import RandomForestClassifier\n",
    "\n",
    "#initializing the Random Forest Classifier:\n",
    "#The random state ensures reproducibility, as the same state will produce the same results each time the model is trained.\n",
    "clf = RandomForestClassifier(random_state = 10)\n",
    "\n",
    "#train the model\n",
    "clf.fit(x_train, y_train)\n",
    "\n",
    "#making predictions on feature variable test dataset\n",
    "x_pred2 = clf.predict(x_test)\n",
    "\n",
    "#evaluating the model\n",
    "print('Accuracy Score: ', accuracy_score(y_test, x_pred2) * 100)\n",
    "print('Confusion Matrix: \\n', confusion_matrix(y_test, x_pred2))\n",
    "print('Classification Report: \\n', classification_report(y_test, x_pred2))\n",
    "\n",
    "#NOTE: RandomForestClassifier takes more time to display results."
   ]
  },
  {
   "cell_type": "code",
   "execution_count": 244,
   "id": "56f65620",
   "metadata": {},
   "outputs": [
    {
     "name": "stdout",
     "output_type": "stream",
     "text": [
      "Confusion Matrix: \n",
      " [[2369   11]\n",
      " [ 549   71]]\n",
      "Classification Report: \n",
      "               precision    recall  f1-score   support\n",
      "\n",
      "           0       0.81      1.00      0.89      2380\n",
      "           1       0.87      0.11      0.20       620\n",
      "\n",
      "    accuracy                           0.81      3000\n",
      "   macro avg       0.84      0.55      0.55      3000\n",
      "weighted avg       0.82      0.81      0.75      3000\n",
      "\n"
     ]
    }
   ],
   "source": [
    "#importing the decision tree classifier\n",
    "from sklearn.tree import DecisionTreeClassifier\n",
    "\n",
    "#initializing the Decision Tree Classifier:\n",
    "#criterion=\"gini\": The criterion used to measure the quality of a split. \"Gini\" refers to the Gini impurity.\n",
    "#random_state=100: The random seed for reproducibility.\n",
    "#max_depth=3: The maximum depth of the tree.\n",
    "#min_samples_leaf=5: The minimum number of samples required to be at a leaf node.\n",
    "clf_gini = DecisionTreeClassifier(criterion = \"gini\", random_state = 100, max_depth =3, min_samples_leaf = 5)\n",
    "\n",
    "#training the model\n",
    "clf_gini.fit(x_train, y_train)\n",
    "\n",
    "#making predictions on feature variable test dataset\n",
    "x_pred3  = clf_gini.predict(x_test)\n",
    "\n",
    "#evaluating the model\n",
    "print('Confusion Matrix: \\n', confusion_matrix(y_test, x_pred3))\n",
    "print('Classification Report: \\n', classification_report(y_test, x_pred3))"
   ]
  },
  {
   "cell_type": "code",
   "execution_count": null,
   "id": "4e9f2cdb",
   "metadata": {},
   "outputs": [],
   "source": [
    "#Permorance Evalution"
   ]
  },
  {
   "cell_type": "code",
   "execution_count": 245,
   "id": "f35c1a77",
   "metadata": {},
   "outputs": [],
   "source": [
    "import sklearn.metrics as metrics\n",
    "from sklearn.metrics import classification_report, confusion_matrix, ConfusionMatrixDisplay"
   ]
  },
  {
   "cell_type": "code",
   "execution_count": 283,
   "id": "6177f835",
   "metadata": {},
   "outputs": [
    {
     "data": {
      "image/png": "[encoded data removed]",
      "text/plain": [
       "<Figure size 640x480 with 2 Axes>"
      ]
     },
     "metadata": {},
     "output_type": "display_data"
    },
    {
     "data": {
      "image/png": "[encoded data removed]",
      "text/plain": [
       "<Figure size 640x480 with 2 Axes>"
      ]
     },
     "metadata": {},
     "output_type": "display_data"
    },
    {
     "data": {
      "image/png": "[encoded data removed]",
      "text/plain": [
       "<Figure size 640x480 with 2 Axes>"
      ]
     },
     "metadata": {},
     "output_type": "display_data"
    }
   ],
   "source": [
    "#A confusion matrix is a table that is used to evaluate the performance of a classification model. \n",
    "\n",
    "#visualising confusion matrix - Logistic Regression\n",
    "\n",
    "disp = ConfusionMatrixDisplay(confusion_matrix = confusion_matrix(y_test, x_pred1))\n",
    "disp.plot()\n",
    "plt.title('Confusion Matrix - LR')\n",
    "plt.show()\n",
    "\n",
    "#visualising confusion matrix - Random Forest\n",
    "\n",
    "disp = ConfusionMatrixDisplay(confusion_matrix = confusion_matrix(y_test, x_pred2))\n",
    "disp.plot()\n",
    "plt.title('Confusion Matrix - RF')\n",
    "plt.show()\n",
    "\n",
    "#visualising confusion matrix - Decision Tree\n",
    "\n",
    "disp = ConfusionMatrixDisplay(confusion_matrix = confusion_matrix(y_test, x_pred3))\n",
    "disp.plot()\n",
    "plt.title('Confusion Matrix - DT')\n",
    "plt.show()"
   ]
  },
  {
   "cell_type": "raw",
   "id": "c66f053a",
   "metadata": {},
   "source": [
    "Take Confusion Matrix - LR \n",
    "\n",
    "1. True Positive(TP): 2287 \n",
    "2. True Negative(TN): 238     \n",
    "3. False Positive(FP): 93 \n",
    "4. False Negative(FN): 382 \n",
    "\n",
    "Performance evalution of models can be checked based on applying various classification metrics on specific confusion matrix.\n",
    "\n",
    "CLASSIFICATION METRICS\n",
    "\n",
    "1. Accuracy: It measures the overall correctness of predictions by considering the proportion of true positives and true negatives among all instances. Formula: (TP + TN) / (TP + TN + FP + FN).\n",
    "\n",
    "2. Precision: It assesses the accuracy of positive predictions, indicating the proportion of true positives among all instances predicted as positive. Formula: TP / (TP + FP).\n",
    "\n",
    "3. Recall (Sensitivity): It gauges the model's ability to capture all actual positive instances, representing the proportion of true positives among all actual positives. Formula: TP / (TP + FN).\n",
    "\n",
    "4. Specificity: It measures the model's ability to correctly identify all actual negative instances, representing the proportion of true negatives among all actual negatives. Formula: TN / (TN + FP).\n",
    "\n",
    "5. F1-Score: It combines precision and recall into a single metric, providing a balanced measure of a model's performance. It is the harmonic mean of precision and recall. Formula: 2 * (Precision * Recall) / (Precision + Recall).\n"
   ]
  },
  {
   "cell_type": "code",
   "execution_count": 282,
   "id": "3e0b37b6",
   "metadata": {},
   "outputs": [
    {
     "data": {
      "image/png": "[encoded data removed]",
      "text/plain": [
       "<Figure size 640x480 with 1 Axes>"
      ]
     },
     "metadata": {},
     "output_type": "display_data"
    },
    {
     "data": {
      "image/png": "[encoded data removed]",
      "text/plain": [
       "<Figure size 640x480 with 1 Axes>"
      ]
     },
     "metadata": {},
     "output_type": "display_data"
    },
    {
     "data": {
      "image/png": "[encoded data removed]",
      "text/plain": [
       "<Figure size 640x480 with 1 Axes>"
      ]
     },
     "metadata": {},
     "output_type": "display_data"
    }
   ],
   "source": [
    "#AUC ROC - DT\n",
    "#calculate the fpr and tpr for all thresholds of the classification\n",
    "\n",
    "fpr, tpr, threshold = metrics.roc_curve(y_test,x_pred3)\n",
    "roc_auc = metrics.auc(fpr, tpr)\n",
    "\n",
    "plt.title('ROC - DT')\n",
    "plt.plot(fpr, tpr, 'b', label = 'AUC = %0.2f' % roc_auc)\n",
    "plt.legend(loc = 'lower right')\n",
    "plt.plot([0,1], [0,1], 'r--')\n",
    "plt.xlim([0,1])\n",
    "plt.ylim([0,1])\n",
    "plt.ylabel('True Positive Rate')\n",
    "plt.xlabel('False Positive Rate')\n",
    "plt.show()\n",
    "\n",
    "\n",
    "#AUC ROC - LR\n",
    "#calculate the fpr and tpr for all thresholds of the classification\n",
    "\n",
    "fpr, tpr, threshold = metrics.roc_curve(y_test,x_pred1)\n",
    "roc_auc = metrics.auc(fpr, tpr)\n",
    "\n",
    "plt.title('ROC - LR')\n",
    "plt.plot(fpr, tpr, 'b', label = 'AUC = %0.2f' % roc_auc)\n",
    "plt.legend(loc = 'lower right')\n",
    "plt.plot([0,1], [0,1], 'r--')\n",
    "plt.xlim([0,1])\n",
    "plt.ylim([0,1])\n",
    "plt.ylabel('True Positive Rate')\n",
    "plt.xlabel('False Positive Rate')\n",
    "plt.show()\n",
    "\n",
    "#AUC ROC - RF\n",
    "#calculate the fpr and tpr for all thresholds of the classification\n",
    "\n",
    "fpr, tpr, threshold = metrics.roc_curve(y_test,x_pred2)\n",
    "roc_auc = metrics.auc(fpr, tpr)\n",
    "\n",
    "plt.title('ROC - RF')\n",
    "plt.plot(fpr, tpr, 'b', label = 'AUC = %0.2f' % roc_auc)\n",
    "plt.legend(loc = 'lower right')\n",
    "plt.plot([0,1], [0,1], 'r--')\n",
    "plt.xlim([0,1])\n",
    "plt.ylim([0,1])\n",
    "plt.ylabel('True Positive Rate')\n",
    "plt.xlabel('False Positive Rate')\n",
    "plt.show()\n",
    "\n"
   ]
  },
  {
   "cell_type": "raw",
   "id": "fbc85437",
   "metadata": {},
   "source": [
    "AUC-ROC (Area Under Curve - Receiver Operating Characteristic):\n",
    "\n",
    "1. Measures the trade-off between true positive rate and false positive rate at various classification thresholds.\n",
    "\n",
    "2. A higher AUC-ROC value indicates better overall performance of model, with 1.0 representing perfect discrimination.\n",
    "\n",
    "In the above gives respective AUC Score, if the score is higher the better model it is.\n",
    "\n",
    "So the RF and LR have good score of AUC so we can consider that models for our dataset."
   ]
  },
  {
   "cell_type": "code",
   "execution_count": null,
   "id": "855e861b",
   "metadata": {},
   "outputs": [],
   "source": []
  },
  {
   "cell_type": "code",
   "execution_count": null,
   "id": "94e1588e",
   "metadata": {},
   "outputs": [],
   "source": [
    "                                            ** The END **"
   ]
  }
 ],
 "metadata": {
  "kernelspec": {
   "display_name": "Python 3 (ipykernel)",
   "language": "python",
   "name": "python3"
  },
  "language_info": {
   "codemirror_mode": {
    "name": "ipython",
    "version": 3
   },
   "file_extension": ".py",
   "mimetype": "text/x-python",
   "name": "python",
   "nbconvert_exporter": "python",
   "pygments_lexer": "ipython3",
   "version": "3.11.5"
  }
 },
 "nbformat": 4,
 "nbformat_minor": 5
}
